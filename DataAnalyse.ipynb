{
 "cells": [
  {
   "cell_type": "markdown",
   "id": "89afb821-3514-4818-b34a-18b046afcb40",
   "metadata": {},
   "source": [
    "#### Imports"
   ]
  },
  {
   "cell_type": "code",
   "execution_count": null,
   "id": "628e5b17-327c-4387-be0d-4e3c316f7e05",
   "metadata": {},
   "outputs": [],
   "source": [
    "import numpy as np\n",
    "import pandas as pd\n",
    "from sklearn.preprocessing import StandardScaler\n",
    "from sklearn.decomposition import PCA\n",
    "import seaborn as sns\n",
    "import matplotlib\n",
    "import matplotlib.pyplot as plt"
   ]
  },
  {
   "cell_type": "markdown",
   "id": "aa8929a9-7f31-427d-88e7-2ffac5c0db16",
   "metadata": {},
   "source": [
    "#### Path"
   ]
  },
  {
   "cell_type": "code",
   "execution_count": null,
   "id": "679de0ac-af30-44e7-ab70-3b6d784671c3",
   "metadata": {},
   "outputs": [],
   "source": [
    "data_path = r'tested_molecules.csv'"
   ]
  },
  {
   "cell_type": "markdown",
   "id": "3c0c1466-b5f7-4e8e-a7e0-5991c3652592",
   "metadata": {},
   "source": [
    "#### Load data"
   ]
  },
  {
   "cell_type": "code",
   "execution_count": null,
   "id": "852e2d8c-6d4a-45a5-aea9-75d333e8c61b",
   "metadata": {},
   "outputs": [],
   "source": [
    "df = pd.read_csv(data_path)\n",
    "\n",
    "# Check if there is any missing data and duplicated rows\n",
    "missing_count = df.isnull().sum()\n",
    "print(\"Number of missing values in each column:\\n\", missing_count)\n",
    "any_missing_values = df.isnull().values.any()\n",
    "print(\"Are there any missing values in the DataFrame?\",any_missing_values)\n",
    "\n",
    "# Check for infinite values\n",
    "inf_values = df.isin([np.inf, -np.inf]).sum()\n",
    "print(\"Number of infinite values in each column:\")\n",
    "print(inf_values)\n",
    "\n",
    "# Count the number of duplicated rows\n",
    "duplicate_count = df.duplicated().sum()\n",
    "print(\"Number of duplicated rows:\", duplicate_count)\n",
    "\n",
    "# Check which rows only contain one value\n",
    "single_value_columns = df.columns[df.nunique() == 1]\n",
    "print(\"Column containing only one value:\", single_value_columns)\n",
    "# Remove the columns with only one unique value from the DataFrame\n",
    "df = df.drop(columns=single_value_columns)\n",
    "\n",
    "# Create dataframes for SMILES, PKM2 and ERK2\n",
    "smiles = df['SMILES']\n",
    "PKM2_inhibition = df['PKM2_inhibition']\n",
    "ERK2_inhibition = df['ERK2_inhibition']\n",
    "features = df.iloc[:, 3::]"
   ]
  },
  {
   "cell_type": "markdown",
   "id": "de7efd77-e022-4d2f-bba0-110320068c27",
   "metadata": {},
   "source": [
    "### Distribution of data"
   ]
  },
  {
   "cell_type": "markdown",
   "id": "fa16c067-6a9f-43f7-adb8-fdeae6966888",
   "metadata": {},
   "source": [
    "#### Correlation data"
   ]
  },
  {
   "cell_type": "code",
   "execution_count": null,
   "id": "027bdb41-f186-4d56-a30b-0b1d5fffc87f",
   "metadata": {},
   "outputs": [],
   "source": [
    "# Compute the correlation matrix\n",
    "correlation_matrix = features.corr()\n",
    "\n",
    "# Threshold correlation\n",
    "correlation_value = 0.95\n",
    "# Create a mask for correlations greater than the threhold\n",
    "highly_correlated_mask = np.abs(correlation_matrix) > correlation_value\n",
    "# Set the diagonal values to FALSE\n",
    "np.fill_diagonal(highly_correlated_mask.values, False)\n",
    "# Extract the upper triangle of the correlation matrix\n",
    "upper_triangle_mask = np.triu(np.ones(correlation_matrix.shape), k=1).astype(bool)\n",
    "# Apply the upper triangle mask to the highly correlated mask\n",
    "highly_correlated_upper = highly_correlated_mask & upper_triangle_mask\n",
    "# Count the number of highly correlated pairs\n",
    "highly_correlated_count = highly_correlated_upper.sum()\n",
    "\n",
    "print(f\"Total correlated variable pairs (correlation > {correlation_value}):\", highly_correlated_count.sum())\n",
    "\n",
    "# Generate a heatmap\n",
    "plt.figure(figsize=(40,40))\n",
    "sns.heatmap(correlation_matrix, cmap='coolwarm', center=0)\n",
    "plt.title('Correlation Matrix Heatmap')\n",
    "plt.show()"
   ]
  },
  {
   "cell_type": "markdown",
   "id": "6aa31e11-304c-4360-9708-1fc63c17b614",
   "metadata": {},
   "source": [
    "#### Visualization distribution features"
   ]
  },
  {
   "cell_type": "code",
   "execution_count": null,
   "id": "6a7dec69-c305-4690-a161-67f56c623d64",
   "metadata": {},
   "outputs": [],
   "source": [
    "df_melted = features.melt(var_name='Feature', value_name='Value')\n",
    "\n",
    "# Create the boxplot\n",
    "# plt.figure(figsize=(10, 6))\n",
    "# sns.boxplot(x='Feature', y='Value', data=df_melted)\n",
    "# plt.title('Boxplot of Features')\n",
    "# plt.xlabel('Feature')\n",
    "# plt.ylabel('Value')\n",
    "# plt.show()\n",
    "\n",
    "# Create histograms\n",
    "# g = sns.FacetGrid(df_melted, col='Feature', col_wrap=5, sharex=False, sharey=False)\n",
    "# g.map(plt.hist, 'Value', bins=20)\n",
    "# g.fig.subplots_adjust(top=0.9)\n",
    "# g.fig.suptitle('Histograms of Features')\n",
    "# plt.show()\n",
    "\n",
    "# Create density plots\n",
    "g = sns.FacetGrid(df_melted, col='Feature', col_wrap=5, sharex=False, sharey=False)\n",
    "g.map(sns.kdeplot, 'Value')\n",
    "g.fig.subplots_adjust(top=0.9)\n",
    "g.fig.suptitle('Density Plots of Features')\n",
    "plt.show()"
   ]
  },
  {
   "cell_type": "markdown",
   "id": "7dd672b9-3385-4076-89a8-a5c71b7200f8",
   "metadata": {},
   "source": [
    "### Principal Component Analysis"
   ]
  },
  {
   "cell_type": "code",
   "execution_count": null,
   "id": "9c5e011a-33b2-4178-8623-b0eb81395698",
   "metadata": {},
   "outputs": [],
   "source": []
  },
  {
   "cell_type": "code",
   "execution_count": null,
   "id": "3b86b94b-0865-45f4-8b11-38fbbb0f82cf",
   "metadata": {},
   "outputs": [],
   "source": []
  }
 ],
 "metadata": {
  "kernelspec": {
   "display_name": "Python 3 (ipykernel)",
   "language": "python",
   "name": "python3"
  },
  "language_info": {
   "codemirror_mode": {
    "name": "ipython",
    "version": 3
   },
   "file_extension": ".py",
   "mimetype": "text/x-python",
   "name": "python",
   "nbconvert_exporter": "python",
   "pygments_lexer": "ipython3",
   "version": "3.9.19"
  }
 },
 "nbformat": 4,
 "nbformat_minor": 5
}
