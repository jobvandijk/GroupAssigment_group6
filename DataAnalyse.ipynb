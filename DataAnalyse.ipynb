{
 "cells": [
  {
   "cell_type": "markdown",
   "id": "89afb821-3514-4818-b34a-18b046afcb40",
   "metadata": {},
   "source": [
    "#### Imports"
   ]
  },
  {
   "cell_type": "code",
   "execution_count": null,
   "id": "628e5b17-327c-4387-be0d-4e3c316f7e05",
   "metadata": {},
   "outputs": [],
   "source": [
    "import numpy as np\n",
    "import pandas as pd\n",
    "from sklearn.preprocessing import StandardScaler\n",
    "from sklearn.decomposition import PCA\n",
    "import seaborn as sns\n",
    "import matplotlib\n",
    "import matplotlib.pyplot as plt"
   ]
  },
  {
   "cell_type": "markdown",
   "id": "aa8929a9-7f31-427d-88e7-2ffac5c0db16",
   "metadata": {},
   "source": [
    "#### Path"
   ]
  },
  {
   "cell_type": "code",
   "execution_count": null,
   "id": "679de0ac-af30-44e7-ab70-3b6d784671c3",
   "metadata": {},
   "outputs": [],
   "source": [
    "data_path = r'tested_molecules.csv'"
   ]
  },
  {
   "cell_type": "code",
   "execution_count": null,
   "id": "852e2d8c-6d4a-45a5-aea9-75d333e8c61b",
   "metadata": {},
   "outputs": [],
   "source": [
    "df = pd.read_csv(data_path)\n",
    "df"
   ]
  }
 ],
 "metadata": {
  "kernelspec": {
   "display_name": "Python 3 (ipykernel)",
   "language": "python",
   "name": "python3"
  },
  "language_info": {
   "codemirror_mode": {
    "name": "ipython",
    "version": 3
   },
   "file_extension": ".py",
   "mimetype": "text/x-python",
   "name": "python",
   "nbconvert_exporter": "python",
   "pygments_lexer": "ipython3",
   "version": "3.9.19"
  }
 },
 "nbformat": 4,
 "nbformat_minor": 5
}
