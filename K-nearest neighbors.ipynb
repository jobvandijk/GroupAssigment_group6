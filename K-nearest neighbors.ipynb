{
 "cells": [
  {
   "cell_type": "code",
   "execution_count": 5,
   "id": "b22eaaab",
   "metadata": {},
   "outputs": [
    {
     "name": "stdout",
     "output_type": "stream",
     "text": [
      "Best value for k: 4\n",
      "Accuracy for both PKM2 inhibition and ERK2 inhibition: 0.9295101553\n"
     ]
    },
    {
     "data": {
      "text/html": [
       "<div>\n",
       "<style scoped>\n",
       "    .dataframe tbody tr th:only-of-type {\n",
       "        vertical-align: middle;\n",
       "    }\n",
       "\n",
       "    .dataframe tbody tr th {\n",
       "        vertical-align: top;\n",
       "    }\n",
       "\n",
       "    .dataframe thead th {\n",
       "        text-align: right;\n",
       "    }\n",
       "</style>\n",
       "<table border=\"1\" class=\"dataframe\">\n",
       "  <thead>\n",
       "    <tr style=\"text-align: right;\">\n",
       "      <th></th>\n",
       "      <th>Prediction_PKM2_inhibition</th>\n",
       "      <th>Prediction_ERK2_inhibition</th>\n",
       "    </tr>\n",
       "  </thead>\n",
       "  <tbody>\n",
       "    <tr>\n",
       "      <th>0</th>\n",
       "      <td>0</td>\n",
       "      <td>0</td>\n",
       "    </tr>\n",
       "    <tr>\n",
       "      <th>1</th>\n",
       "      <td>0</td>\n",
       "      <td>0</td>\n",
       "    </tr>\n",
       "    <tr>\n",
       "      <th>2</th>\n",
       "      <td>0</td>\n",
       "      <td>0</td>\n",
       "    </tr>\n",
       "    <tr>\n",
       "      <th>3</th>\n",
       "      <td>0</td>\n",
       "      <td>0</td>\n",
       "    </tr>\n",
       "    <tr>\n",
       "      <th>4</th>\n",
       "      <td>0</td>\n",
       "      <td>0</td>\n",
       "    </tr>\n",
       "  </tbody>\n",
       "</table>\n",
       "</div>"
      ],
      "text/plain": [
       "   Prediction_PKM2_inhibition  Prediction_ERK2_inhibition\n",
       "0                           0                           0\n",
       "1                           0                           0\n",
       "2                           0                           0\n",
       "3                           0                           0\n",
       "4                           0                           0"
      ]
     },
     "execution_count": 5,
     "metadata": {},
     "output_type": "execute_result"
    }
   ],
   "source": [
    "import pandas as pd\n",
    "import numpy as np\n",
    "from sklearn.model_selection import train_test_split, GridSearchCV\n",
    "from sklearn.neighbors import KNeighborsClassifier\n",
    "from sklearn.multioutput import MultiOutputClassifier\n",
    "from sklearn.metrics import make_scorer, accuracy_score, hamming_loss\n",
    "\n",
    "# Load the data\n",
    "file_path_input = r\"C:\\Users\\20223560\\OneDrive - TU Eindhoven\\Documents\\BMT 2e-jaars\\advanced programming\\group assignment\\sorted_tested_molecules.csv\"  # replace with your actual file path\n",
    "data_input = pd.read_csv(file_path_input)\n",
    "\n",
    "# Separate features and labels\n",
    "X = data_input.iloc[:, :-2].values  # all rows, all columns except the last two\n",
    "y = data_input[['PKM2_inhibition', 'ERK2_inhibition']].values  # combine labels into a matrix\n",
    "\n",
    "# Split the data into training and testing sets\n",
    "X_train, X_test, y_train, y_test = train_test_split(X, y, test_size=0.75, random_state=42)\n",
    "\n",
    "# Define the k-NN model\n",
    "knn = KNeighborsClassifier()\n",
    "multi_output_knn = MultiOutputClassifier(knn, n_jobs=-1)\n",
    "\n",
    "# Determine the best k using GridSearchCV\n",
    "param_grid = {'estimator__n_neighbors': np.arange(1, 21)}\n",
    "grid_search = GridSearchCV(multi_output_knn, param_grid, cv=5, scoring=make_scorer(hamming_loss, greater_is_better=False))\n",
    "grid_search.fit(X_train, y_train)\n",
    "\n",
    "best_k = grid_search.best_params_['estimator__n_neighbors']\n",
    "print(f\"Best value for k: {best_k}\")\n",
    "\n",
    "# Use the best k to define the k-NN model\n",
    "best_knn = KNeighborsClassifier(n_neighbors=best_k)\n",
    "best_multi_output_knn = MultiOutputClassifier(best_knn, n_jobs=-1)\n",
    "\n",
    "# Train the model with the best k\n",
    "best_multi_output_knn.fit(X_train, y_train)\n",
    "\n",
    "# Make predictions\n",
    "y_pred = best_multi_output_knn.predict(X_test)\n",
    "df_y_pred = pd.DataFrame(y_pred, columns=['Prediction_PKM2_inhibition', 'Prediction_ERK2_inhibition'])\n",
    "\n",
    "# Calculate accuracy based on both predictions being correct\n",
    "accuracy_both_correct = np.mean((y_pred == y_test).all(axis=1))\n",
    "\n",
    "print(f\"Accuracy for both PKM2 inhibition and ERK2 inhibition: {accuracy_both_correct:.10f}\")"
   ]
  },
  {
   "cell_type": "code",
   "execution_count": null,
   "id": "ffe1e3bf",
   "metadata": {},
   "outputs": [],
   "source": []
  }
 ],
 "metadata": {
  "kernelspec": {
   "display_name": "Python 3",
   "language": "python",
   "name": "python3"
  },
  "language_info": {
   "codemirror_mode": {
    "name": "ipython",
    "version": 3
   },
   "file_extension": ".py",
   "mimetype": "text/x-python",
   "name": "python",
   "nbconvert_exporter": "python",
   "pygments_lexer": "ipython3",
   "version": "3.8.8"
  }
 },
 "nbformat": 4,
 "nbformat_minor": 5
}
