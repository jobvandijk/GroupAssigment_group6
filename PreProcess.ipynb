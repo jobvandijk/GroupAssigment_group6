{
 "cells": [
  {
   "cell_type": "code",
   "execution_count": 1,
   "metadata": {},
   "outputs": [],
   "source": [
    "import pandas as pd\n",
    "from rdkit import Chem\n",
    "from rdkit.Chem import Descriptors\n",
    "\n",
    "def compute_2Ddescriptors(smiles):\n",
    "    '''Compute 2D descriptors for a given SMILES string using RDKit.\n",
    "    Parameters:\n",
    "        smiles (str): SMILES string\n",
    "    Returns:\n",
    "        list: List of descriptor values'''\n",
    "    mol = Chem.MolFromSmiles(smiles)\n",
    "    descriptors = [desc[1](mol) for desc in Descriptors.descList if not desc[0].startswith('fr_')]\n",
    "    return descriptors\n",
    "\n",
    "def get_maccs_keys(smiles):\n",
    "    '''Generate MACCS keys for a given SMILES string using RDKit.\n",
    "    Parameters: \n",
    "        smiles (str): SMILES string\n",
    "    Returns:\n",
    "        list: List of MACCS keys'''\n",
    "    # Convert SMILES to RDKit molecule\n",
    "    molecule = Chem.MolFromSmiles(smiles)\n",
    "    if molecule is None:\n",
    "        return [0] * 166  # Return an array of zeros if the molecule is invalid\n",
    "    # Generate MACCS keys for the molecule\n",
    "    maccs_fp = MACCSkeys.GenMACCSKeys(molecule)\n",
    "    # Convert the fingerprint to a list of integers (0 or 1) and skip the first bit\n",
    "    return list(maccs_fp)[1:]"
   ]
  },
  {
   "cell_type": "code",
   "execution_count": null,
   "metadata": {},
   "outputs": [],
   "source": []
  }
 ],
 "metadata": {
  "kernelspec": {
   "display_name": "Python 3",
   "language": "python",
   "name": "python3"
  },
  "language_info": {
   "codemirror_mode": {
    "name": "ipython",
    "version": 3
   },
   "file_extension": ".py",
   "mimetype": "text/x-python",
   "name": "python",
   "nbconvert_exporter": "python",
   "pygments_lexer": "ipython3",
   "version": "3.9.13"
  }
 },
 "nbformat": 4,
 "nbformat_minor": 2
}
